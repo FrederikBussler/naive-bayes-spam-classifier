{
 "cells": [
  {
   "cell_type": "markdown",
   "metadata": {},
   "source": [
    "This is a spam classifier built from scratch and based on Bayes Theorem:\n",
    "$P(A | B) = \\frac{P(B | A) P(A)}{P(B)}$\n",
    "\n",
    "* P(A) and P(B) are the marginal probabilities of observing A (spam) and B (content)\n",
    "* P(A | B) is the conditional probability of A given B (probability a given email is spam)\n",
    "* P(B | A) is the conditional probability of B given A (probability of a word given the set of all words in spam emails)\n",
    "\n",
    "It states that for two discrete events, A and B, if we know the conditional probability of B given A and the probability of A, we can compute the conditional probability of A given B.\n",
    "\n",
    "In other words, the posterior probability of A given B can be calculated by multiplying the likelyhood by the prior probability and dividing by the evidence term.\n",
    "\n",
    "Posterior Probability = $\\frac{Likelihood \\ * \\ Prior \\ Probability}{Evidence}$\n",
    "\n",
    "The theorem is used to update probabilities in light of new knowledge (the evidence).\n",
    "\n",
    "We'll use a family of linear classifiers based off of Bayes Theorem called Naive Bayes Classifiers, which work well for small datasets:\n",
    "\n",
    "$P(y \\ | \\ x_1,\\ ...\\ ,\\ x_n) = \\frac{P(x_1,\\ ...\\ , \\ x_n\\ |\\ y) P(y)}{P(x_1,\\ ...\\ ,\\ x_n)}$, where y is a class variable and $x_1, \\ ... \\ ,x_n$ is a dependent feature vector.\n",
    "\n",
    "Hence, our predicted output is the following:\n",
    "\n",
    "$\\hat y = arg \\ \\underset{\\rm y}{\\rm max} \\ P(y) \\ \\Pi_{i=1}^n \\ P(x_i \\ | \\ y)$\n",
    "\n",
    "To make predictions using Naive Bayes, we'll calculate probabilities of the instance belonging to each class and select the class value with the highest probability.\n",
    "\n",
    "Naive Bayes makes two assumptions about the data:\n",
    "1. Samples are independent from eachother and identically distributed (drawn from a similar distribution)\n",
    "2. Conditional independence of features (likelihood of the samples can be directly estimated from the training data)"
   ]
  },
  {
   "cell_type": "markdown",
   "metadata": {},
   "source": [
    "**Run the code below to import dependencies**"
   ]
  },
  {
   "cell_type": "code",
   "execution_count": 1,
   "metadata": {
    "collapsed": true
   },
   "outputs": [],
   "source": [
    "try:\n",
    "    import pandas as pd # data processing module, used here to read csv, name and replace columns, and get dataframe values\n",
    "    import matplotlib.pyplot as plt # used to create visualizations\n",
    "    from sklearn.model_selection import train_test_split # split input data into training and testing with a oneliner\n",
    "    import statistics as stats # for mean, median, and standard deviation\n",
    "except ImportError:\n",
    "    print('Use \"pip install (distribution name)\" to get the missing distribution.') "
   ]
  },
  {
   "cell_type": "markdown",
   "metadata": {},
   "source": [
    "**Load the data corpus (Source: *Kaggle* \"SMS Spam Collection Dataset\")**\n",
    "\n",
    "Each line of the dataset is stored in a dataframe object using the pandas read_csv function. The dataframe also has 3 unnamed, useless columns, and we only need columns at index 0 and 1, so we use the keyword argument usecols. We need latin-1 encoding because not all the characters can be handled by utf-8, seen as some characters appear as �.\n",
    "\n",
    "The imported data corpus has column names \"v1\" and \"v2\" by default, where \"v1\" is the label \"ham\" or \"spam\" and \"v2\" is the raw text of a single email. We rename \"v1\" to \"label\" and the individual labels \"ham\" and \"spam\" to 0 and 1, respectively. We change \"v2\" to \"text\" with the pandas .columns attribute."
   ]
  },
  {
   "cell_type": "code",
   "execution_count": 2,
   "metadata": {
    "collapsed": true
   },
   "outputs": [],
   "source": [
    "try:\n",
    "    spam_data = pd.read_csv('spam.csv', usecols=[0,1], encoding=\"latin-1\")\n",
    "    spam_data.columns = ['label', 'text']\n",
    "    spam_data['label'] = spam_data['label'].replace(['ham', 'spam'], [0, 1])\n",
    "    data = spam_data.values # the pandas dataframe is stored in the \"data\" variable.\n",
    "except FileNotFoundError:\n",
    "    print(\"Make sure you downloaded the spam.csv file to the same path as wherever you're running this, or change the path.\")"
   ]
  },
  {
   "cell_type": "markdown",
   "metadata": {},
   "source": [
    "**Data Analysis on the corpus**"
   ]
  },
  {
   "cell_type": "code",
   "execution_count": 3,
   "metadata": {
    "scrolled": true
   },
   "outputs": [
    {
     "data": {
      "text/html": [
       "<div>\n",
       "<style>\n",
       "    .dataframe thead tr:only-child th {\n",
       "        text-align: right;\n",
       "    }\n",
       "\n",
       "    .dataframe thead th {\n",
       "        text-align: left;\n",
       "    }\n",
       "\n",
       "    .dataframe tbody tr th {\n",
       "        vertical-align: top;\n",
       "    }\n",
       "</style>\n",
       "<table border=\"1\" class=\"dataframe\">\n",
       "  <thead>\n",
       "    <tr style=\"text-align: right;\">\n",
       "      <th></th>\n",
       "      <th>label</th>\n",
       "      <th>text</th>\n",
       "    </tr>\n",
       "  </thead>\n",
       "  <tbody>\n",
       "    <tr>\n",
       "      <th>0</th>\n",
       "      <td>0</td>\n",
       "      <td>Go until jurong point, crazy.. Available only ...</td>\n",
       "    </tr>\n",
       "    <tr>\n",
       "      <th>1</th>\n",
       "      <td>0</td>\n",
       "      <td>Ok lar... Joking wif u oni...</td>\n",
       "    </tr>\n",
       "    <tr>\n",
       "      <th>2</th>\n",
       "      <td>1</td>\n",
       "      <td>Free entry in 2 a wkly comp to win FA Cup fina...</td>\n",
       "    </tr>\n",
       "    <tr>\n",
       "      <th>3</th>\n",
       "      <td>0</td>\n",
       "      <td>U dun say so early hor... U c already then say...</td>\n",
       "    </tr>\n",
       "    <tr>\n",
       "      <th>4</th>\n",
       "      <td>0</td>\n",
       "      <td>Nah I don't think he goes to usf, he lives aro...</td>\n",
       "    </tr>\n",
       "  </tbody>\n",
       "</table>\n",
       "</div>"
      ],
      "text/plain": [
       "   label                                               text\n",
       "0      0  Go until jurong point, crazy.. Available only ...\n",
       "1      0                      Ok lar... Joking wif u oni...\n",
       "2      1  Free entry in 2 a wkly comp to win FA Cup fina...\n",
       "3      0  U dun say so early hor... U c already then say...\n",
       "4      0  Nah I don't think he goes to usf, he lives aro..."
      ]
     },
     "execution_count": 3,
     "metadata": {},
     "output_type": "execute_result"
    }
   ],
   "source": [
    "spam_data.head() # show the format of our dataframe"
   ]
  },
  {
   "cell_type": "code",
   "execution_count": 4,
   "metadata": {},
   "outputs": [
    {
     "data": {
      "text/html": [
       "<div>\n",
       "<style>\n",
       "    .dataframe thead tr:only-child th {\n",
       "        text-align: right;\n",
       "    }\n",
       "\n",
       "    .dataframe thead th {\n",
       "        text-align: left;\n",
       "    }\n",
       "\n",
       "    .dataframe tbody tr th {\n",
       "        vertical-align: top;\n",
       "    }\n",
       "</style>\n",
       "<table border=\"1\" class=\"dataframe\">\n",
       "  <thead>\n",
       "    <tr>\n",
       "      <th></th>\n",
       "      <th colspan=\"4\" halign=\"left\">text</th>\n",
       "    </tr>\n",
       "    <tr>\n",
       "      <th></th>\n",
       "      <th>count</th>\n",
       "      <th>unique</th>\n",
       "      <th>top</th>\n",
       "      <th>freq</th>\n",
       "    </tr>\n",
       "    <tr>\n",
       "      <th>label</th>\n",
       "      <th></th>\n",
       "      <th></th>\n",
       "      <th></th>\n",
       "      <th></th>\n",
       "    </tr>\n",
       "  </thead>\n",
       "  <tbody>\n",
       "    <tr>\n",
       "      <th>0</th>\n",
       "      <td>4825</td>\n",
       "      <td>4516</td>\n",
       "      <td>Sorry, I'll call later</td>\n",
       "      <td>30</td>\n",
       "    </tr>\n",
       "    <tr>\n",
       "      <th>1</th>\n",
       "      <td>747</td>\n",
       "      <td>653</td>\n",
       "      <td>Please call our customer service representativ...</td>\n",
       "      <td>4</td>\n",
       "    </tr>\n",
       "  </tbody>\n",
       "</table>\n",
       "</div>"
      ],
      "text/plain": [
       "       text                                                               \n",
       "      count unique                                                top freq\n",
       "label                                                                     \n",
       "0      4825   4516                             Sorry, I'll call later   30\n",
       "1       747    653  Please call our customer service representativ...    4"
      ]
     },
     "execution_count": 4,
     "metadata": {},
     "output_type": "execute_result"
    }
   ],
   "source": [
    "spam_data.groupby('label').describe() # show spam and non-spam counts, unique counts, and top message with frequency"
   ]
  },
  {
   "cell_type": "code",
   "execution_count": 5,
   "metadata": {},
   "outputs": [
    {
     "data": {
      "image/png": "[encoded data removed]",
      "text/plain": [
       "<matplotlib.figure.Figure at 0x1a84668f630>"
      ]
     },
     "metadata": {},
     "output_type": "display_data"
    }
   ],
   "source": [
    "not_spam = spam_data.groupby('label').size()[0]\n",
    "spam = spam_data.groupby('label').size()[1] # use .size so you don't have to hard code numbers\n",
    "tot = spam_data.count(numeric_only=True)[0] # get total number messages\n",
    "\n",
    "labels = 'Spam', 'Not Spam' # physical labels to display\n",
    "sizes = spam/tot, not_spam/tot # [number_spam/total, number_not_spam/total], from above info\n",
    "colors = '#F03434', '#87D37C' # fancy red and green\n",
    " \n",
    "# pie chart with above info, show sizes as %, crispy angle\n",
    "plt.pie(sizes, labels=labels, colors=colors,autopct='%1.1f%%', startangle=138) \n",
    " \n",
    "plt.axis('equal') # flatten image\n",
    "plt.show() # display it"
   ]
  },
  {
   "cell_type": "markdown",
   "metadata": {},
   "source": [
    "The dataset is quite imbalanced (86.6% is spam and only 13.4% is non-spam). Therefore, a model that guesses \"spam\" for every email will have 86.6% accuracy, which seems high, but is total garbage, since it's just a reflection of the underlying class distribution, seen above. This is known as the \"accuracy paradox.\""
   ]
  },
  {
   "cell_type": "code",
   "execution_count": 6,
   "metadata": {
    "collapsed": true
   },
   "outputs": [],
   "source": [
    "# create 3 lists, one all spam, one all not spam, and one with both\n",
    "all_ = list(pd.Series(spam_data['text'])) # all split message texts \n",
    "dist_all = [len(_.split(' ')) for _ in all_] # list of word lengths of all split message texts\n",
    "\n",
    "all_spam = list(pd.Series(spam_data[spam_data['label'] == 0]['text']))\n",
    "dist_s = [len(_.split(' ')) for _ in all_spam]\n",
    "\n",
    "all_not_spam = list(pd.Series(spam_data[spam_data['label'] == 1]['text']))\n",
    "dist_ns = [len(_.split(' ')) for _ in all_not_spam]"
   ]
  },
  {
   "cell_type": "code",
   "execution_count": 7,
   "metadata": {},
   "outputs": [
    {
     "data": {
      "image/png": "[encoded data removed]",
      "text/plain": [
       "<matplotlib.figure.Figure at 0x1a847a48780>"
      ]
     },
     "metadata": {},
     "output_type": "display_data"
    },
    {
     "data": {
      "image/png": "[encoded data removed]",
      "text/plain": [
       "<matplotlib.figure.Figure at 0x1a847ffbe10>"
      ]
     },
     "metadata": {},
     "output_type": "display_data"
    },
    {
     "name": "stdout",
     "output_type": "stream",
     "text": [
      "Some Summary Statistics\n",
      "Min \t1 \n",
      "Mean \t15.60678391959799 \n",
      "Median \t12.00 \n",
      "StDev \t11.422465115303629 \n",
      "Max \t171\n"
     ]
    }
   ],
   "source": [
    "plt.figure(figsize=(10, 6)) # tried different x,y values in inches until it looks nice\n",
    "\n",
    "plt.hist(dist_all, bins=170, color='b', normed=True) # blue. divide to 170 bins.\n",
    "\n",
    "plt.xlabel('Word Count')\n",
    "plt.ylabel('Probability of Message')\n",
    "plt.title('Histogram of Word Count in All Messages')\n",
    "plt.show()\n",
    "\n",
    "plt.hist(dist_all, bins=50, range=[0,50], color='b', normed=True) # blue. divide to 170 bins.\n",
    "plt.xlabel('Word Count')\n",
    "plt.ylabel('Probability of Message')\n",
    "plt.title('A Closer Look')\n",
    "plt.show()\n",
    "\n",
    "print('Some Summary Statistics')\n",
    "print(f'Min \\t{min(dist_all)} \\nMean \\t{stats.mean(dist_all)} \\nMedian \\t{stats.median(dist_all):.2f} \\nStDev \\t{stats.stdev(dist_all)} \\nMax \\t{max(dist_all)}')"
   ]
  },
  {
   "cell_type": "markdown",
   "metadata": {},
   "source": [
    "The dataset is strongly skewed right. The mean is significantly greater than the median, since the skew pulls it to the right. The distribution is unimodal, with a range of 170 (maximum of 171 - minimum of 1)."
   ]
  },
  {
   "cell_type": "code",
   "execution_count": 8,
   "metadata": {},
   "outputs": [
    {
     "data": {
      "image/png": "[encoded data removed]",
      "text/plain": [
       "<matplotlib.figure.Figure at 0x1a847e9dc18>"
      ]
     },
     "metadata": {},
     "output_type": "display_data"
    },
    {
     "name": "stdout",
     "output_type": "stream",
     "text": [
      "Summary Statistics\n",
      "\n",
      "\tNon-Spam\tSpam\n",
      "Min \t2 \t\t1 \n",
      "Mean \t23.89 \t\t14.32 \n",
      "Med \t25.00 \t\t11.00 \n",
      "StDev \t5.83 \t\t11.54 \n",
      "Max \t35 \t\t171 \n",
      "\n"
     ]
    }
   ],
   "source": [
    "plt.figure(figsize=(10,6))\n",
    "\n",
    "plt.hist(dist_ns, bins=50, range=[0,60], color='#87D37C', normed=True, alpha=1, label='not spam') # green\n",
    "plt.hist(dist_s, bins=50, range=[0, 60], color='#F03434', normed=True, alpha=.7, label='spam') # red\n",
    "\n",
    "plt.xlabel('Word Count')\n",
    "plt.ylabel('Probability of Message')\n",
    "plt.title('Histogram of Word Count in Messages')\n",
    "plt.show()\n",
    "print('Summary Statistics\\n')\n",
    "print('\\tNon-Spam\\tSpam')\n",
    "print(f'Min \\t{min(dist_ns)} \\t\\t{min(dist_s)} \\nMean \\t{stats.mean(dist_ns):.2f} \\t\\t{stats.mean(dist_s):.2f} \\nMed \\t{stats.median(dist_ns):.2f} \\t\\t{stats.median(dist_s):.2f} \\nStDev \\t{stats.stdev(dist_ns):.2f} \\t\\t{stats.stdev(dist_s):.2f} \\nMax \\t{max(dist_ns)} \\t\\t{max(dist_s)} \\n')"
   ]
  },
  {
   "cell_type": "code",
   "execution_count": 9,
   "metadata": {},
   "outputs": [
    {
     "data": {
      "image/png": "[encoded data removed]",
      "text/plain": [
       "<matplotlib.figure.Figure at 0x1a847ee9710>"
      ]
     },
     "metadata": {},
     "output_type": "display_data"
    }
   ],
   "source": [
    "box_data = ((max(dist_all)-min(dist_all), stats.median(dist_all), max(dist_all), min(dist_all), 0))\n",
    "plt.boxplot(box_data, 0, 'rs', 0)\n",
    "plt.xlabel('Word Count')\n",
    "plt.title('Boxplot of Word Count in All Messages')\n",
    "plt.show()"
   ]
  },
  {
   "cell_type": "markdown",
   "metadata": {},
   "source": [
    "**Create bag-of-words Naive Bayes Classifier**"
   ]
  },
  {
   "cell_type": "markdown",
   "metadata": {},
   "source": [
    "Rather than just use functions (procedure-oriented programming), we create a class called naive_bayes_classifier that we can train and test later (object oriented programming).\n",
    "\n",
    "Every function within this class (or method) has an additional initial parameter, called self. "
   ]
  },
  {
   "cell_type": "code",
   "execution_count": 10,
   "metadata": {
    "collapsed": true
   },
   "outputs": [],
   "source": [
    "class naive_bayes_classifier:\n",
    "    \n",
    "    def __init__(self, data, split=0.7):\n",
    "        \"\"\"Constructor method called when the naive_bayes_classifier class is constructed; all attributes are declared here.\n",
    "        Args: \n",
    "            data (:obj:dataframe): The pandas dataframe object in the format [<(int) label> <(str) raw text>]\n",
    "            split (float, optional): The train/test split ratio\n",
    "        \"\"\"\n",
    "        # split into training (train the model) and testing (measure accuracy) data with recommended 70/30 split \n",
    "        self.train_data, self.test_data = train_test_split(data, train_size=split)\n",
    "\n",
    "        # convert into unigrams / bag-of-words (two ways of looking at it)\n",
    "        self.train_data = [[item[0], item[1].split(' ')] for item in self.train_data]\n",
    "        self.test_data = [[item[0], item[1].split(' ')] for item in self.test_data]\n",
    "        \n",
    "        # count unique words in training data\n",
    "        flattened = [word for message in self.train_data for word in message[1]]\n",
    "        self.num_unique_words = len(set(flattened))\n",
    "\n",
    "        # initialize dictionaries\n",
    "        self.train_pos = {}\n",
    "        self.train_neg = {}\n",
    "\n",
    "        # counters\n",
    "        self.pos_word_count = 0\n",
    "        self.neg_word_count = 0\n",
    "        self.spam_count = 0\n",
    "\n",
    "        # prior probabilities\n",
    "        self.pA = 0\n",
    "        self.pNotA = 0\n",
    "    \n",
    "    def train(self):\n",
    "        \"\"\"Count number of spam emails, spam words, non spam words, and calculate P(A) and P(Not A).\"\"\"\n",
    "        for item in self.train_data: # for item in corpus\n",
    "            label = item[0] # label is 0 or 1 for \"ham\" or \"spam\"\n",
    "            text = item[1] # text is the raw email text\n",
    "            if label == 1: # if the email is spam ...\n",
    "                self.spam_count += 1 # increase the spam count by 1\n",
    "            for word in text: # for each word in the email text\n",
    "                if label == 1: # if the email is spam ...\n",
    "                    self.train_pos[word] = self.train_pos.get(word, 0) + 1 # dict of spam words, increase frequency of each repeated spam word\n",
    "                    self.pos_word_count += 1 # count the number of spam words total\n",
    "                else: # if the email is not spam ...\n",
    "                    self.train_neg[word] = self.train_neg.get(word, 0) + 1 # dict of non spam words, increase frequency of each repeated non spam word\n",
    "                    self.neg_word_count += 1 # count the number of non spam words total\n",
    "                    \n",
    "        self.pA = self.spam_count/float(len(self.train_data)) # P(A) = probability of spam, spam mail over total mail\n",
    "        self.pNotA = 1.0 - self.pA # P(Not A) = 1 - P(A) by complement rule\n",
    "        \n",
    "    def classify(self, text):\n",
    "        \"\"\"Classify a test-set email as spam or not spam\n",
    "        Args:\n",
    "            text (str): The raw text of a single email\n",
    "        return: (int) 0 or 1 based on whether the email is spam\n",
    "        \"\"\"\n",
    "        # take product of the P(B_word | A_iterator) value for every word in the email \n",
    "        pB_given_A = self.pA * self.conditional(text,1)\n",
    "        pB_given_notA = self.pNotA * self.conditional(text, 0)\n",
    "        if pB_given_A > pB_given_notA: # if is_spam > not_spam, classify as spam\n",
    "            return 1\n",
    "        else: # if P(not spam) > P(spam), classify as not spam \n",
    "            return 0\n",
    "            \n",
    "    def conditional(self, text, label):\n",
    "        \"\"\"Bag-of-words model used to calculate conditional probabilities\n",
    "        Args:\n",
    "            text (str): The raw text of a single email\n",
    "            label (int): The label of a single email (0 or 1)\n",
    "        return: (int) Conditional probability with laplacian smoothing\n",
    "        \"\"\"\n",
    "        result = 1.0\n",
    "        for word in text:\n",
    "            if label == 1:\n",
    "                # product of former conditional probability and percentage of times word shows up in spam emails\n",
    "                # +1 for \"laplacian / add one smoothing\" so the frequency of no word in a corpus but not a specific email is 0\n",
    "                # ... which would make the probability of the whole email 0\n",
    "                result *= (self.train_pos.get(word,0) + 1) / float(self.pos_word_count + 1 * self.num_unique_words)\n",
    "            else:\n",
    "                # product of former conditional probability and percentage of times word shows up in non spam emails\n",
    "                result *= (self.train_neg.get(word,0) + 1) / float(self.neg_word_count + 1 * self.num_unique_words)\n",
    "        return result\n",
    "    \n",
    "    def test_accuracy(self):\n",
    "        \"\"\"Measure the accuracy of the model by testing on new and unseen data\"\"\"        \n",
    "        results = []\n",
    "        for test in self.test_data: # for every email in the testing set\n",
    "            label = test[0] # label of 0 or 1 is the first column\n",
    "            text = test[1] # raw text is the second column\n",
    "            ruling = self.classify(text) # greatest probability is the ruling\n",
    "            if ruling == label: # if the estimated value equals actual value (we're right)\n",
    "                results.append(1) # add one to the results\n",
    "            else: # if the estimated value != actual value (we're wrong)\n",
    "                results.append(0) # don't add to the results\n",
    "        \n",
    "        print(f\"{100.0*sum(results)/float(len(results)):.2f}% accuracy with {len(results)} test datapoints.\")"
   ]
  },
  {
   "cell_type": "code",
   "execution_count": 11,
   "metadata": {
    "collapsed": true
   },
   "outputs": [],
   "source": [
    "bag_of_words_model = naive_bayes_classifier(data) # load the spam data in our model"
   ]
  },
  {
   "cell_type": "markdown",
   "metadata": {},
   "source": [
    "Here, we call methods of the object bag_of_words_model."
   ]
  },
  {
   "cell_type": "code",
   "execution_count": 12,
   "metadata": {
    "collapsed": true
   },
   "outputs": [],
   "source": [
    "bag_of_words_model.train() # train the model with our custom function"
   ]
  },
  {
   "cell_type": "code",
   "execution_count": 13,
   "metadata": {},
   "outputs": [
    {
     "name": "stdout",
     "output_type": "stream",
     "text": [
      "96.47% accuracy with 1672 test datapoints.\n"
     ]
    }
   ],
   "source": [
    "bag_of_words_model.test_accuracy() # test the model, accuracy changes since split changes, typically around 96 to 97%"
   ]
  },
  {
   "cell_type": "markdown",
   "metadata": {
    "collapsed": true
   },
   "source": [
    "**Conclusion**\n",
    "\n",
    "Our model achieved around 97% accuracy. Gmail is supposedly 99.9% accurate. This is not a direct comparison, since different datasets are used. \n",
    "\n",
    "State-of-the-art spam filters achieve extremely high accuracy through several means: \n",
    "- Use Deep Learning (more complex functions through Neural Nets) with Big Data (terabytes of email data vs 208 KB)\n",
    "- More \"features\" are used, including:\n",
    "    1. source of the message\n",
    "    2. software used to send the message\n",
    "    3. content of the message\n",
    "    4. recipient engagement\n",
    "    5. personal preferences\n",
    "    6. postmaster tools\n",
    "    \n",
    "How you could potentially improve this model:\n",
    "- Term Frequency-Inverse Document Frequency to reflect the importance of words in the corpus\n",
    "- Find the optimal parameters of the model, including split size, dictionary size, dataset size, and threshold"
   ]
  },
  {
   "cell_type": "markdown",
   "metadata": {},
   "source": [
    "**Works Consulted**\n",
    "\n",
    "[Wolfram - Bayes Theorem](http://mathworld.wolfram.com/BayesTheorem.html)\n",
    "\n",
    "[Scikit Learn - Naive Bayes](http://scikit-learn.org/stable/modules/naive_bayes.html)\n",
    "\n",
    "[Udacity - LaTeX](http://data-blog.udacity.com/posts/2016/10/latex-primer/)\n",
    "\n",
    "[Gmail - Spam Filtering](https://gmail.googleblog.com/2015/07/the-mail-you-want-not-spam-you-dont.html)"
   ]
  },
  {
   "cell_type": "code",
   "execution_count": null,
   "metadata": {
    "collapsed": true
   },
   "outputs": [],
   "source": []
  }
 ],
 "metadata": {
  "kernelspec": {
   "display_name": "Python 3",
   "language": "python",
   "name": "python3"
  },
  "language_info": {
   "codemirror_mode": {
    "name": "ipython",
    "version": 3
   },
   "file_extension": ".py",
   "mimetype": "text/x-python",
   "name": "python",
   "nbconvert_exporter": "python",
   "pygments_lexer": "ipython3",
   "version": "3.6.1"
  }
 },
 "nbformat": 4,
 "nbformat_minor": 2
}
